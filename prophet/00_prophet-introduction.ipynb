{
 "cells": [
  {
   "cell_type": "markdown",
   "metadata": {},
   "source": [
    "# Facebook Prophet"
   ]
  },
  {
   "cell_type": "markdown",
   "metadata": {},
   "source": [
    "## Moving average and exponential smoothing\n",
    "\n",
    "**Moving average:** a moving average is used as a smoothing technique to find a straighter line through data with a lot of variation.\n",
    "\n",
    "**Exponential smoothing:** is to apply exponentially decreasing weights to the values being averaged over time, giving recent values more weight and older values less.\n",
    "\n",
    "Exponential smoothing originated in the 1950s with **simple exponential smoothing**, \n",
    "which does not allow for a trend or seasonality. Charles Holt advanced the technique \n",
    "in 1957 to allow for a trend with what he called **double exponential smoothing**; and \n",
    "in collaboration with Peter Winters, Holt added seasonality support in 1960, in what is \n",
    "commonly called **Holt-Winters exponential smoothing**. \n"
   ]
  },
  {
   "cell_type": "markdown",
   "metadata": {},
   "source": [
    "## ARIMA\n",
    "\n",
    "In 1970, the mathematicians George Box and Gwilym Jenkins published *Time Series:* \n",
    "*Forecasting and Control*, which described what is now known as the **Box-Jenkins model**. \n",
    "This methodology took the idea of the moving average further with the development of \n",
    "**ARIMA**. As a term, ARIMA is often used interchangeably with Box-Jenkins, although \n",
    "technically, Box-Jenkins refers to a method of parameter optimization for an ARIMA \n",
    "model.\n",
    "\n",
    "- Autoregressive (AR)\n",
    "- Integrated (I)\n",
    "- Moving Average (MA).\n",
    "\n",
    "**Autoregressive** means that the model uses the dependent relationship between a data point and some number of lagged data points.\n",
    "\n",
    "**Integrated** is the difference between that data point and some previous data point is used.\n",
    "\n",
    "\n",
    "**Paramenters:**\n",
    "\n",
    "*ARIMA(p, d, q)*\n",
    "\n",
    "- *p:* is used as the number of lag observations to use, also known as the lag order.\n",
    "- *d:* number of times that a raw observation is differenced, or the degree of differencing.\n",
    "- *q:* q represents the size of the moving average window.\n",
    "\n",
    "> problem with ARIMA models is that they do not support seasonality, or data with repeating cycles\n",
    "\n",
    "**SARIMA**, or **Seasonal ARIMA**, was developed to overcome this drawback.\n",
    "\n",
    "Other variations on ARIMA models:\n",
    "\n",
    "\n",
    "- **VARIMA** (**Vector ARIMA**, for cases with multiple time series as vectors);\n",
    "- **FARIMA** (**Fractional ARIMA**) or **ARFIMA** (**Fractionally Integrated ARMA**), both of which include a fractional differencing degree allowing a long memory in the sense that observations far \n",
    "apart in time can have non-negligible dependencies;\n",
    "- **SARIMAX**, a **seasonal ARIMA** model where the X stands for exogenous or additional variables added to the model, such as adding a rain forecast to a temperature model.\n",
    "\n",
    "\n",
    "\n",
    "\n",
    "\n",
    "\n",
    "\n",
    "> ARIMA is complexity;  \n",
    "> Tuning and optimizing ARIMA models is often computationally expensive;    \n",
    "> Depend upon the skill and experience of the forecaster;   \n",
    "> It is not a scalable process; \n",
    "but     \n",
    ">better suited to ad hoc analyses by skilled practitioners\n"
   ]
  },
  {
   "cell_type": "markdown",
   "metadata": {},
   "source": [
    "## ARCH/GARCH\n",
    "\n",
    "When the variance of a dataset is not constant over time, ARIMA models face problems with modeling it.\n",
    "\n",
    "**Autoregressive Conditional Heteroscedasticity (ARCH)** models were developed to solve this problem. **Heteroscedasticity** is a fancy way of saying that the variance or spread of the data is not constant.\n",
    "\n",
    "Robert Engle introduced the first ARCH model in 1982 by describing the **conditional variance** as a function of previous values.\n",
    "\n",
    "Tim Bollerslev and Stephen Taylor introduced a moving average component to the model in 1986 with their **Generalized ARCH model**, or **GARCH**.\n",
    "\n",
    "Both ARCH and GARCH models can handle neither trend nor seasonality though, \n",
    "so often, in practice, an ARIMA model may first be built to extract out the seasonal \n",
    "variation and trend of a time series, and then an ARCH model may be used to model \n",
    "the expected variance.\n"
   ]
  },
  {
   "cell_type": "markdown",
   "metadata": {},
   "source": [
    "## Neural networks\n",
    "\n",
    "- A relatively recent development in time series forecasting is the use of **Recurrent Neural Networks (RNNs)**. \n",
    "\n",
    "- This was made possible with the development of the **Long Short-Term Memory** unit, or **LSTM**, by Sepp Hochreiter and Jürgen Schmidhuber in 1997. \n",
    "\n",
    "\n",
    "- Essentially, an LSTM unit allows a neural network to process a sequence of data, such as speech or video, instead of a single data point, such as an image.\n",
    "\n",
    "- A standard RNN is called *recurrent* because it has loops built into it, which is what gives it memory, that is, gives it access to previous information. \n",
    "\n",
    "\n",
    "- Time series forecasting with LSTMs is still in its infancy when compared to the other forecasting methods discussed here; however, it is showing promise. \n",
    "\n",
    "- One strong advantage over other forecasting techniques is the ability of neural networks to capture non-linear relationships. \n",
    "\n",
    "- But as with any deep learning problem though, LSTM forecasting requires a great deal of data, computing power, and processing time. \n",
    "\n",
    "- Additionally, there are many decisions to be made regarding the architecture of the model and the hyperparameters to be used, which necessitate a very experienced forecaster. \n",
    "\n",
    "- In most practical problems, where budget and deadlines must be considered, an ARIMA model is often the better choice.\n",
    "\n"
   ]
  },
  {
   "cell_type": "markdown",
   "metadata": {},
   "source": [
    "## Prophet\n",
    "\n",
    "Prophet was developed internally at Facebook by Sean J. Taylor and Ben Letham in \n",
    "order to overcome two issues often encountered with other forecasting methodologies: \n",
    "the **more automatic** forecasting tools available tended to be too inflexible and unable \n",
    "to accommodate additional assumptions, and the **more robust** forecasting tools would \n",
    "require an experienced analyst with specialized data science skills. Facebook was \n",
    "experiencing too much demand for high-quality business forecasts than their analysts \n",
    "were able to provide. In 2017, Facebook released Prophet to the public as open source \n",
    "software.\n",
    "\n",
    "Prophet was designed to optimally handle business forecasting tasks, which typically \n",
    "feature any of these attributes:\n",
    "\n",
    "- Time series data captured at the hourly, daily, or weekly level with ideally at least a full year of historical data\n",
    "- Strong seasonality effects occurring daily, weekly, and/or yearly\n",
    "- Holidays and other special one-time events that don't necessarily follow the seasonality patterns but occur irregularly\n",
    "- Missing data and outliers\n",
    "- Significant trend changes that may occur with the launch of new features or products, for example\n",
    "- Trends that asymptotically approach an upper or lower bound\n",
    "\n",
    "<br>\n",
    "\n",
    "Prophet is an **additive regression model**.\n",
    "\n",
    "- A linear or logistic growth trend curve\n",
    "- An annual seasonality curve\n",
    "- A weekly seasonality curve\n",
    "- A daily seasonality curve\n",
    "- Holidays and other special events\n",
    "- Additional user-specified seasonality curves, such as hourly or quarterly, for example\n"
   ]
  },
  {
   "cell_type": "markdown",
   "metadata": {},
   "source": []
  }
 ],
 "metadata": {
  "kernelspec": {
   "display_name": "Python 3.8.10 64-bit",
   "language": "python",
   "name": "python3"
  },
  "language_info": {
   "name": "python",
   "version": "3.8.10"
  },
  "orig_nbformat": 4,
  "vscode": {
   "interpreter": {
    "hash": "916dbcbb3f70747c44a77c7bcd40155683ae19c65e1c03b4aa3499c5328201f1"
   }
  }
 },
 "nbformat": 4,
 "nbformat_minor": 2
}

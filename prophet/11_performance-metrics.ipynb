{
 "cells": [
  {
   "cell_type": "markdown",
   "metadata": {},
   "source": [
    "# Performance Metrics"
   ]
  },
  {
   "cell_type": "markdown",
   "metadata": {},
   "source": [
    "## Mean Squared Error (MSE)\n",
    "\n",
    "\n",
    "$$\n",
    "\\frac{1}{n}\\sum^{n}_{i=1}(y_{i}-\\hat{y}_{i})^{2}\n",
    "$$"
   ]
  },
  {
   "cell_type": "markdown",
   "metadata": {},
   "source": [
    "## Root Mean Squared Error (RMSE)\n",
    "\n",
    "\n",
    "$$\n",
    "\\sqrt{\\frac{1}{n}\\sum^{n}_{i=1}(y_{i}-\\hat{y}_{i})^{2}}\n",
    "$$"
   ]
  },
  {
   "cell_type": "markdown",
   "metadata": {},
   "source": [
    "## Mean Absolut Error (MAE)\n",
    "\n",
    "\n",
    "$$\n",
    "\\frac{1}{n}\\sum^{n}_{i=1}|y_{i}-\\hat{y}_{i}|\n",
    "$$\n",
    "\n",
    "In order to scale MAE to the data, it will often be divided by the data's mean value, to \n",
    "arrive at a percentage:\n",
    "\n",
    "$$\n",
    "\\frac{\\frac{1}{n}\\sum^{n}_{i=1}|y_{i}-\\hat{y}_{i}|}{\\bar{y}}\n",
    "$$\n"
   ]
  },
  {
   "cell_type": "markdown",
   "metadata": {},
   "source": [
    "## Mean Absolute Percent Error (MAPE)\n",
    "\n",
    "Is another very common metric despite its poor \n",
    "ability to represent performance of a model. Not to be confused with total MAE divided \n",
    "by the mean value, MAPE divides each error by the value of the data point at that error:\n",
    "\n",
    "\n",
    "$$\n",
    "\\frac{1}{n}\\sum^{n}_{i=1} \\left | \\frac{y_{i}-\\hat{y}_{i}}{y_{i}} \\right |\n",
    "$$"
   ]
  },
  {
   "cell_type": "code",
   "execution_count": null,
   "metadata": {},
   "outputs": [],
   "source": []
  }
 ],
 "metadata": {
  "language_info": {
   "name": "python"
  },
  "orig_nbformat": 4
 },
 "nbformat": 4,
 "nbformat_minor": 2
}

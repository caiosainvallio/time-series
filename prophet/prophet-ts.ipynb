{
 "cells": [
  {
   "cell_type": "markdown",
   "metadata": {},
   "source": [
    "# Facebook Prophet"
   ]
  },
  {
   "cell_type": "markdown",
   "metadata": {},
   "source": [
    "## Moving average and exponential smoothing\n",
    "\n",
    "**Moving average:** a moving average is used as a smoothing technique to find a straighter line through data with a lot of variation.\n",
    "\n",
    "**Exponential smoothing:** is to apply exponentially decreasing weights to the values being averaged over time, giving recent values more weight and older values less.\n",
    "\n",
    "Exponential smoothing originated in the 1950s with **simple exponential smoothing**, \n",
    "which does not allow for a trend or seasonality. Charles Holt advanced the technique \n",
    "in 1957 to allow for a trend with what he called **double exponential smoothing**; and \n",
    "in collaboration with Peter Winters, Holt added seasonality support in 1960, in what is \n",
    "commonly called **Holt-Winters exponential smoothing**. "
   ]
  },
  {
   "cell_type": "markdown",
   "metadata": {},
   "source": [
    "## ARIMA\n",
    "\n",
    "In 1970, the mathematicians George Box and Gwilym Jenkins published *Time Series:* \n",
    "*Forecasting and Control*, which described what is now known as the **Box-Jenkins model**. \n",
    "This methodology took the idea of the moving average further with the development of \n",
    "**ARIMA**. As a term, ARIMA is often used interchangeably with Box-Jenkins, although \n",
    "technically, Box-Jenkins refers to a method of parameter optimization for an ARIMA \n",
    "model.\n",
    "\n",
    "- Autoregressive (AR)\n",
    "- Integrated (I)\n",
    "- Moving Average (MA).\n",
    "\n",
    "**Autoregressive** means that the model uses the dependent relationship between a data point and some number of lagged data points.\n",
    "\n",
    "**Integrated** is the difference between that data point and some previous data point is used.\n",
    "\n",
    "\n",
    "**Paramenters:**\n",
    "\n",
    "*ARIMA(p, d, q)*\n",
    "\n",
    "- *p:* is used as the number of lag observations to use, also known as the lag order.\n",
    "- *d:* number of times that a raw observation is differenced, or the degree of differencing.\n",
    "- *q:* q represents the size of the moving average window.\n",
    "\n",
    "> problem with ARIMA models is that they do not support seasonality, or data with repeating cycles\n",
    "\n",
    "**SARIMA**, or **Seasonal ARIMA**, was developed to overcome this drawback.\n",
    "\n",
    "Other variations on ARIMA models:\n",
    "\n",
    "\n",
    "- **VARIMA** (**Vector ARIMA**, for cases with multiple time series as vectors);\n",
    "- **FARIMA** (**Fractional ARIMA**) or **ARFIMA** (**Fractionally Integrated ARMA**), both of which include a fractional differencing degree allowing a long memory in the sense that observations far \n",
    "apart in time can have non-negligible dependencies;\n",
    "- **SARIMAX**, a **seasonal ARIMA** model where the X stands for exogenous or additional variables added to the model, such as adding a rain forecast to a temperature model.\n",
    "\n",
    "\n",
    "\n",
    "\n",
    "\n",
    "\n",
    "\n",
    "> ARIMA is complexity;  \n",
    "> Tuning and optimizing ARIMA models is often computationally expensive;    \n",
    "> Depend upon the skill and experience of the forecaster;   \n",
    "> It is not a scalable process; \n",
    "but     \n",
    ">better suited to ad hoc analyses by skilled practitioners\n"
   ]
  },
  {
   "cell_type": "markdown",
   "metadata": {},
   "source": [
    "## ARCH/GARCH\n",
    "\n",
    "When the variance of a dataset is not constant over time, ARIMA models face problems with modeling it.\n",
    "\n",
    "**Autoregressive Conditional Heteroscedasticity (ARCH)** models were developed to solve this problem. **Heteroscedasticity** is a fancy way of saying that the variance or spread of the data is not constant.\n",
    "\n",
    "Robert Engle introduced the first ARCH model in 1982 by describing the **conditional variance** as a function of previous values.\n",
    "\n",
    "\n",
    "\n",
    "\n"
   ]
  },
  {
   "cell_type": "markdown",
   "metadata": {},
   "source": []
  }
 ],
 "metadata": {
  "interpreter": {
   "hash": "98f70770acb03e03089e43196c258c982d4010159c6b420ae15d64e11e641f80"
  },
  "kernelspec": {
   "display_name": "Python 3.9.0 64-bit ('forecast-fb': conda)",
   "language": "python",
   "name": "python3"
  },
  "language_info": {
   "name": "python",
   "version": "3.9.0"
  },
  "orig_nbformat": 4
 },
 "nbformat": 4,
 "nbformat_minor": 2
}

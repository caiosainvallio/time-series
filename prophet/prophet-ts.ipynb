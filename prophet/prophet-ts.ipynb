{
 "cells": [
  {
   "cell_type": "markdown",
   "metadata": {},
   "source": [
    "# Facebook Prophet"
   ]
  },
  {
   "cell_type": "markdown",
   "metadata": {},
   "source": [
    "**Moving average:** a moving average is used as a smoothing technique to find a straighter line through data with a lot of variation.\n",
    "\n",
    "**Exponential smoothing:** is to apply exponentially decreasing weights to the values being averaged over time, giving recent values more weight and older values less."
   ]
  },
  {
   "cell_type": "code",
   "execution_count": null,
   "metadata": {},
   "outputs": [],
   "source": []
  }
 ],
 "metadata": {
  "interpreter": {
   "hash": "98f70770acb03e03089e43196c258c982d4010159c6b420ae15d64e11e641f80"
  },
  "kernelspec": {
   "display_name": "Python 3.9.0 64-bit ('forecast-fb': conda)",
   "language": "python",
   "name": "python3"
  },
  "language_info": {
   "name": "python",
   "version": "3.9.0"
  },
  "orig_nbformat": 4
 },
 "nbformat": 4,
 "nbformat_minor": 2
}
